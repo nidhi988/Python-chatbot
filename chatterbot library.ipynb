{
 "cells": [
  {
   "cell_type": "code",
   "execution_count": null,
   "metadata": {},
   "outputs": [],
   "source": [
    "pip install chatterbot\n",
    "pip install chatterbot_corpus"
   ]
  },
  {
   "cell_type": "code",
   "execution_count": null,
   "metadata": {},
   "outputs": [],
   "source": [
    "#importing given two classes\n",
    "from chatterbot import ChatBot\n",
    "from chatterbot.trainers import ListTrainer"
   ]
  },
  {
   "cell_type": "code",
   "execution_count": null,
   "metadata": {},
   "outputs": [],
   "source": [
    "my_bot = ChatBot(name='PyBot', read_only=True,\n",
    "                 logic_adapters=['chatterbot.logic.MathematicalEvaluation',\n",
    "                                 'chatterbot.logic.BestMatch'])"
   ]
  },
  {
   "cell_type": "code",
   "execution_count": null,
   "metadata": {},
   "outputs": [],
   "source": [
    "small_talk = ['hi there!',\n",
    "              'hi!',\n",
    "              'how do you do?',\n",
    "              'how are you?',\n",
    "              'i\\'m cool.',\n",
    "              'fine, you?',\n",
    "              'always cool.',\n",
    "              'i\\'m ok',\n",
    "              'glad to hear that.',\n",
    "              'i\\'m fine',\n",
    "              'glad to hear that.',\n",
    "              'i feel awesome',\n",
    "              'excellent, glad to hear that.',\n",
    "              'not so good',\n",
    "              'sorry to hear that.',\n",
    "              'what\\'s your name?',\n",
    "              'i\\'m pybot. ask me a math question, please.']\n",
    "math_talk_1 = ['pythagorean theorem',\n",
    "               'a squared plus b squared equals c squared.']\n",
    "math_talk_2 = ['law of cosines',\n",
    "               'c**2 = a**2 + b**2 - 2 * a * b * cos(gamma)']"
   ]
  },
  {
   "cell_type": "code",
   "execution_count": null,
   "metadata": {},
   "outputs": [],
   "source": [
    "list_trainer = ListTrainer(my_bot)\n",
    "for item in (small_talk, math_talk_1, math_talk_2):\n",
    "    list_trainer.train(item)"
   ]
  },
  {
   "cell_type": "code",
   "execution_count": null,
   "metadata": {},
   "outputs": [],
   "source": [
    "print(my_bot.get_response(\"hi\"))\n",
    "how do you do?\n",
    "print(my_bot.get_response(\"i feel awesome today\"))\n",
    "excellent, glad to hear that.\n",
    "print(my_bot.get_response(\"what's your name?\"))\n",
    "i'm pybot. ask me a math question, please.\n",
    "print(my_bot.get_response(\"show me the pythagorean theorem\"))\n",
    "a squared plus b squared equals c squared.\n",
    "print(my_bot.get_response(\"do you know the law of cosines?\"))\n",
    "c**2 = a**2 + b**2 - 2 * a * b * cos(gamma)"
   ]
  }
 ],
 "metadata": {
  "kernelspec": {
   "display_name": "Python 3",
   "language": "python",
   "name": "python3"
  },
  "language_info": {
   "codemirror_mode": {
    "name": "ipython",
    "version": 3
   },
   "file_extension": ".py",
   "mimetype": "text/x-python",
   "name": "python",
   "nbconvert_exporter": "python",
   "pygments_lexer": "ipython3",
   "version": "3.7.4"
  }
 },
 "nbformat": 4,
 "nbformat_minor": 2
}
